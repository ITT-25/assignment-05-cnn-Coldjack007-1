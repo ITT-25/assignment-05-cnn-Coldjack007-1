{
 "cells": [
  {
   "cell_type": "code",
   "execution_count": 73,
   "id": "37ed4721-2c0e-4a78-888e-8c586cbd4b47",
   "metadata": {
    "tags": []
   },
   "outputs": [],
   "source": [
    "import cv2\n",
    "import json\n",
    "from matplotlib import pyplot as plt\n",
    "import numpy as np\n",
    "import os\n",
    "import random\n",
    "import sys\n",
    "import time\n",
    "\n",
    "# import a lot of things from keras:\n",
    "# sequential model\n",
    "from keras.models import Sequential\n",
    "\n",
    "# layers\n",
    "from keras.layers import Input, Dense, Dropout, Flatten, Conv2D, MaxPooling2D, RandomFlip, RandomRotation, RandomContrast, RandomBrightness\n",
    "\n",
    "# loss function\n",
    "from keras.metrics import categorical_crossentropy\n",
    "\n",
    "# callback functions\n",
    "from keras.callbacks import ReduceLROnPlateau, EarlyStopping\n",
    "\n",
    "# convert data to categorial vector representation\n",
    "from keras.utils import to_categorical\n",
    "\n",
    "# nice progress bar for loading data\n",
    "from tqdm.notebook import tqdm\n",
    "\n",
    "# helper function for train/test split\n",
    "from sklearn.model_selection import train_test_split\n",
    "\n",
    "# import confusion matrix helper function\n",
    "from sklearn.metrics import confusion_matrix, ConfusionMatrixDisplay\n",
    "\n",
    "# import pre-trained model\n",
    "from keras.applications.vgg16 import VGG16\n",
    "\n",
    "# include only those gestures\n",
    "CONDITIONS = ['like', 'stop']\n",
    "\n",
    "# image size\n",
    "IMG_SIZE = 64\n",
    "SIZE = (IMG_SIZE, IMG_SIZE)\n",
    "\n",
    "# number of color channels we want to use\n",
    "# set to 1 to convert to grayscale\n",
    "# set to 3 to use color images\n",
    "COLOR_CHANNELS = 3"
   ]
  },
  {
   "cell_type": "markdown",
   "id": "1e679f3c",
   "metadata": {},
   "source": [
    "# Kernel Size for the convolution layers\n",
    "## Choosing the values\n",
    "In the given notebook, the values (3,3), (5,5) and (9,9) were used. I elected to additionally use the values (7,7) and (11,11), in order to have every uneven number aside from 1 represented. Any higher value seems silly considering that the images are of a 64x64 size.\n",
    "\n",
    "## Expectation for results\n",
    "I expected (11,11) to be too big for the model to be any more efficient than the other values. As for the other values, I had no idea. I flipped a coin between (5,5) and (7,7) and the coin chose that (7,7) would perform best.\n",
    "\n",
    "## Results\n",
    "All accuracy relevant plots are in the folder.\n",
    "Inference times are the following:\n",
    "- (3,3): 0.1428060531616211\n",
    "- (5,5): 0.13826942443847656\n",
    "- (7,7): 0.12648844718933105\n",
    "- (9,9): 0.1713104248046875\n",
    "- (11,11): 0.13759207725524902\n",
    "\n",
    "Final epoch results are the following:\n",
    "- (3,3): 15 Epochs, 15ms/step, accuracy: 0.9847, loss: 0.0433, val_accuracy: 0.9375, val_loss: 0.1778, learning_rate: 1.0000e-04\n",
    "- (5,5): 9 Epochs, 14ms/step, accuracy: 0.9855, loss: 0.0534, val_accuracy: 0.9297, val_loss: 0.2243, learning_rate: 2.0000e-04\n",
    "- (7,7): 13 Epochs, 19ms/step, accuracy: 0.9790, loss: 0.0578, val_accuracy: 0.9375, val_loss: 0.2500, learning_rate: 1.0000e-04\n",
    "- (9,9): 19 Epochs, 25ms/step, accuracy: 0.9749, loss: 0.0667, val_accuracy: 0.9375, val_loss: 0.2206, learning_rate: 1.0000e-04\n",
    "- (11,11): 16 Epochs, 34ms/step, accuracy: 0.9435, loss: 0.1497, val_accuracy: 0.9219, val_loss: 0.1990, learning_rate: 1.0000e-04\n",
    "\n",
    "\n",
    "## Discussion\n",
    "Interestingly enough, it was (9,9) that seemed to have the overall worst metrics, with the worst amount of epochs needed and by far the largest inference time. (11,11) had the worst accuracy with ~94%. The remaining values seem to not have too many differences, at least not large enough to determine one of them to be \"the best\". I assume that the kernel size will have different results for different image sizes, as a 64x64 image seems too small for larger kernel sizes."
   ]
  },
  {
   "cell_type": "markdown",
   "id": "47b3f618-cd32-48f5-b43d-05d670ec3cba",
   "metadata": {},
   "source": [
    "## helper function to load and parse annotations"
   ]
  },
  {
   "cell_type": "code",
   "execution_count": 74,
   "id": "3705021c-b053-4b70-87b1-a0049ba7e6cc",
   "metadata": {
    "tags": []
   },
   "outputs": [],
   "source": [
    "annotations = dict()\n",
    "for condition in CONDITIONS:\n",
    "    with open(f'_annotations/{condition}.json') as f:\n",
    "        annotations[condition] = json.load(f)"
   ]
  },
  {
   "cell_type": "code",
   "execution_count": 75,
   "id": "cf4cdf6b-bad3-4fe1-b4c6-4471e8ffcdb5",
   "metadata": {
    "tags": []
   },
   "outputs": [],
   "source": [
    "# pretty-print first element\n",
    "#print(json.dumps(annotations['like']['000484ab-5fd0-49b8-9253-23a22b71d7b1'], indent=2))"
   ]
  },
  {
   "cell_type": "markdown",
   "id": "0dad5afd-64ee-4dc2-9b34-4429210c3790",
   "metadata": {},
   "source": [
    "## helper function to pre-process images (color channel conversion and resizing)"
   ]
  },
  {
   "cell_type": "code",
   "execution_count": 76,
   "id": "7e6815af-85fb-483e-ae69-c3a3fee78ffa",
   "metadata": {
    "tags": []
   },
   "outputs": [],
   "source": [
    "def preprocess_image(img):\n",
    "    if COLOR_CHANNELS == 1:\n",
    "        img = cv2.cvtColor(img, cv2.COLOR_BGR2GRAY)\n",
    "    img_resized = cv2.resize(img, SIZE)\n",
    "    return img_resized"
   ]
  },
  {
   "cell_type": "markdown",
   "id": "121f42a0-ece9-47f3-aefb-521366921c18",
   "metadata": {},
   "source": [
    "## load images and annotations"
   ]
  },
  {
   "cell_type": "code",
   "execution_count": 77,
   "id": "06de9c48-aca0-468b-8048-bc7dca63d3ce",
   "metadata": {
    "tags": []
   },
   "outputs": [
    {
     "data": {
      "application/vnd.jupyter.widget-view+json": {
       "model_id": "6e84044d34da4dfd91f5e9a7f03363cd",
       "version_major": 2,
       "version_minor": 0
      },
      "text/plain": [
       "  0%|          | 0/250 [00:00<?, ?it/s]"
      ]
     },
     "metadata": {},
     "output_type": "display_data"
    },
    {
     "data": {
      "application/vnd.jupyter.widget-view+json": {
       "model_id": "7244360dca604eb49fb532271d9cebb6",
       "version_major": 2,
       "version_minor": 0
      },
      "text/plain": [
       "  0%|          | 0/250 [00:00<?, ?it/s]"
      ]
     },
     "metadata": {},
     "output_type": "display_data"
    }
   ],
   "source": [
    "images = [] # stores actual image data\n",
    "labels = [] # stores labels (as integer - because this is what our network needs)\n",
    "label_names = [] # maps label ints to their actual categories so we can understand predictions later\n",
    "\n",
    "# loop over all conditions\n",
    "# loop over all files in the condition's directory\n",
    "# read the image and corresponding annotation\n",
    "# crop image to the region of interest\n",
    "# preprocess image\n",
    "# store preprocessed image and label in corresponding lists\n",
    "for condition in CONDITIONS:\n",
    "    for filename in tqdm(os.listdir(condition)):\n",
    "        # extract unique ID from file name\n",
    "        UID = filename.split('.')[0]\n",
    "        img = cv2.imread(f'{condition}/{filename}')\n",
    "        \n",
    "        # get annotation from the dict we loaded earlier\n",
    "        try:\n",
    "            annotation = annotations[condition][UID]\n",
    "        except Exception as e:\n",
    "            print(e)\n",
    "            continue\n",
    "        \n",
    "        # iterate over all hands annotated in the image\n",
    "        for i, bbox in enumerate(annotation['bboxes']):\n",
    "            # annotated bounding boxes are in the range from 0 to 1\n",
    "            # therefore we have to scale them to the image size\n",
    "            x1 = int(bbox[0] * img.shape[1])\n",
    "            y1 = int(bbox[1] * img.shape[0])\n",
    "            w = int(bbox[2] * img.shape[1])\n",
    "            h = int(bbox[3] * img.shape[0])\n",
    "            x2 = x1 + w\n",
    "            y2 = y1 + h\n",
    "            \n",
    "            # crop image to the bounding box and apply pre-processing\n",
    "            crop = img[y1:y2, x1:x2]\n",
    "            preprocessed = preprocess_image(crop)\n",
    "            \n",
    "            # get the annotated hand's label\n",
    "            # if we have not seen this label yet, add it to the list of labels\n",
    "            label = annotation['labels'][i]\n",
    "            if label not in label_names:\n",
    "                label_names.append(label)\n",
    "            \n",
    "            label_index = label_names.index(label)\n",
    "            \n",
    "            images.append(preprocessed)\n",
    "            labels.append(label_index)"
   ]
  },
  {
   "cell_type": "markdown",
   "id": "097ae97c-8dd4-48b7-8a94-bdc1fbe80346",
   "metadata": {},
   "source": [
    "## let's have a look at one of the images"
   ]
  },
  {
   "cell_type": "code",
   "execution_count": 78,
   "id": "a9b82f39-8412-4f5a-b074-d091fde3a88f",
   "metadata": {
    "tags": []
   },
   "outputs": [
    {
     "data": {
      "text/plain": [
       "<matplotlib.image.AxesImage at 0x16b204a02c0>"
      ]
     },
     "execution_count": 78,
     "metadata": {},
     "output_type": "execute_result"
    },
    {
     "data": {
      "image/png": "[encoded data removed]",
      "text/plain": [
       "<Figure size 640x480 with 1 Axes>"
      ]
     },
     "metadata": {},
     "output_type": "display_data"
    }
   ],
   "source": [
    "plt.imshow(random.sample(images, 1)[0])"
   ]
  },
  {
   "cell_type": "markdown",
   "id": "27443d4b-83d1-43d8-9f23-52859703ebd3",
   "metadata": {},
   "source": [
    "## split data set into train and test\n",
    "\n",
    "x is for the actual data, y is for the label (this is convention)"
   ]
  },
  {
   "cell_type": "code",
   "execution_count": 79,
   "id": "14fdf1c6-1722-42d7-a353-69cfbdf6d675",
   "metadata": {
    "tags": []
   },
   "outputs": [
    {
     "name": "stdout",
     "output_type": "stream",
     "text": [
      "512\n",
      "128\n",
      "512\n",
      "128\n"
     ]
    }
   ],
   "source": [
    "X_train, X_test, y_train, y_test = train_test_split(images, labels, test_size=0.2, random_state=42)\n",
    "\n",
    "print(len(X_train))\n",
    "print(len(X_test))\n",
    "print(len(y_train))\n",
    "print(len(y_test))"
   ]
  },
  {
   "cell_type": "markdown",
   "id": "7d160d5f-2bd9-4864-9a9e-d5525b55bde6",
   "metadata": {},
   "source": [
    "## transform data sets into a format compatible with our neural network\n",
    "\n",
    "image data has to be a numpy array with following dimensions: [image_id, y_axis, x_axis, color_channels]\n",
    "\n",
    "furthermore, scale all values to a range of 0 to 1\n",
    "\n",
    "training data has to be converted to a categorial vector (\"one hot\"):\n",
    "\n",
    "[3] --> [0, 0, 0, 1, 0, ..., 0]"
   ]
  },
  {
   "cell_type": "code",
   "execution_count": 80,
   "id": "243e3d2c-37ad-4596-a431-cdfd55151145",
   "metadata": {
    "tags": []
   },
   "outputs": [
    {
     "name": "stdout",
     "output_type": "stream",
     "text": [
      "(512, 64, 64, 3) (128, 64, 64, 3) (512, 3) (128, 3)\n"
     ]
    }
   ],
   "source": [
    "X_train = np.array(X_train).astype('float32')\n",
    "X_train = X_train / 255.\n",
    "\n",
    "X_test = np.array(X_test).astype('float32')\n",
    "X_test = X_test / 255.\n",
    "\n",
    "y_train_one_hot = to_categorical(y_train)\n",
    "y_test_one_hot = to_categorical(y_test)\n",
    "\n",
    "train_label = y_train_one_hot\n",
    "test_label = y_test_one_hot\n",
    "\n",
    "X_train = X_train.reshape(-1, IMG_SIZE, IMG_SIZE, COLOR_CHANNELS)\n",
    "X_test = X_test.reshape(-1, IMG_SIZE, IMG_SIZE, COLOR_CHANNELS)\n",
    "\n",
    "print(X_train.shape, X_test.shape, train_label.shape, test_label.shape)"
   ]
  },
  {
   "cell_type": "code",
   "execution_count": 81,
   "id": "489e2741-bb40-4501-819e-7a6c18ebcf17",
   "metadata": {
    "tags": []
   },
   "outputs": [
    {
     "name": "stderr",
     "output_type": "stream",
     "text": [
      "c:\\Users\\richi\\AppData\\Local\\Programs\\Python\\Python312\\Lib\\site-packages\\keras\\src\\layers\\convolutional\\base_conv.py:113: UserWarning: Do not pass an `input_shape`/`input_dim` argument to a layer. When using Sequential models, prefer using an `Input(shape)` object as the first layer in the model instead.\n",
      "  super().__init__(activity_regularizer=activity_regularizer, **kwargs)\n"
     ]
    }
   ],
   "source": [
    "# variables for hyperparameters\n",
    "batch_size = 8\n",
    "epochs = 50\n",
    "num_classes = len(label_names)\n",
    "activation = 'relu'\n",
    "activation_conv = 'leaky_relu'  # LeakyReLU\n",
    "layer_count = 2\n",
    "num_neurons = 64\n",
    "\n",
    "# define model structure\n",
    "# with keras, we can use a model's add() function to add layers to the network one by one\n",
    "model = Sequential()\n",
    "\n",
    "# data augmentation (this can also be done beforehand - but don't augment the test dataset!)\n",
    "model.add(RandomFlip('horizontal'))\n",
    "model.add(RandomContrast(0.1))\n",
    "#model.add(RandomBrightness(0.1))\n",
    "#model.add(RandomRotation(0.2))\n",
    "\n",
    "# first, we add some convolution layers followed by max pooling\n",
    "#model.add(Conv2D(64, kernel_size=(3, 3), activation=activation_conv, input_shape=(SIZE[0], SIZE[1], COLOR_CHANNELS), padding='same'))\n",
    "model.add(Conv2D(64, kernel_size=(5, 5), activation=activation_conv, input_shape=(SIZE[0], SIZE[1], COLOR_CHANNELS), padding='same'))\n",
    "#model.add(Conv2D(64, kernel_size=(7, 7), activation=activation_conv, input_shape=(SIZE[0], SIZE[1], COLOR_CHANNELS), padding='same'))\n",
    "#model.add(Conv2D(64, kernel_size=(9, 9), activation=activation_conv, input_shape=(SIZE[0], SIZE[1], COLOR_CHANNELS), padding='same'))\n",
    "#model.add(Conv2D(64, kernel_size=(11, 11), activation=activation_conv, input_shape=(SIZE[0], SIZE[1], COLOR_CHANNELS), padding='same'))\n",
    "model.add(MaxPooling2D(pool_size=(4, 4), padding='same'))\n",
    "\n",
    "#model.add(Conv2D(32, (3, 3), activation=activation_conv, padding='same'))\n",
    "model.add(Conv2D(32, (5, 5), activation=activation_conv, padding='same'))\n",
    "#model.add(Conv2D(32, (7, 7), activation=activation_conv, padding='same'))\n",
    "#model.add(Conv2D(32, (9, 9), activation=activation_conv, padding='same'))\n",
    "#model.add(Conv2D(32, (11, 11), activation=activation_conv, padding='same'))\n",
    "model.add(MaxPooling2D(pool_size=(3, 3), padding='same'))\n",
    "\n",
    "#model.add(Conv2D(32, (3, 3), activation=activation_conv, padding='same'))\n",
    "model.add(Conv2D(32, (5, 5), activation=activation_conv, padding='same'))\n",
    "#model.add(Conv2D(32, (7, 7), activation=activation_conv, padding='same'))\n",
    "#model.add(Conv2D(32, (9, 9), activation=activation_conv, padding='same'))\n",
    "#model.add(Conv2D(32, (11, 11), activation=activation_conv, padding='same'))\n",
    "model.add(MaxPooling2D(pool_size=(2, 2), padding='same'))\n",
    "\n",
    "# dropout layers can drop part of the data during each epoch - this prevents overfitting\n",
    "model.add(Dropout(0.2))\n",
    "\n",
    "# after the convolution layers, we have to flatten the data so it can be fed into fully connected layers\n",
    "model.add(Flatten())\n",
    "\n",
    "# add some fully connected layers (\"Dense\")\n",
    "for i in range(layer_count - 1):\n",
    "    model.add(Dense(num_neurons, activation=activation))\n",
    "\n",
    "model.add(Dense(num_neurons, activation=activation))\n",
    "\n",
    "# for classification, the last layer has to use the softmax activation function, which gives us probabilities for each category\n",
    "model.add(Dense(num_classes, activation='softmax'))\n",
    "\n",
    "# specify loss function, optimizer and evaluation metrics\n",
    "# for classification, categorial crossentropy is used as a loss function\n",
    "# use the adam optimizer unless you have a good reason not to\n",
    "model.compile(loss=categorical_crossentropy, optimizer=\"adam\", metrics=['accuracy'])\n",
    "\n",
    "# define callback functions that react to the model's behavior during training\n",
    "# in this example, we reduce the learning rate once we get stuck and early stopping\n",
    "# to cancel the training if there are no improvements for a certain amount of epochs\n",
    "reduce_lr = ReduceLROnPlateau(monitor='val_loss', factor=0.2, patience=2, min_lr=0.0001)\n",
    "stop_early = EarlyStopping(monitor='val_loss', patience=3)"
   ]
  },
  {
   "cell_type": "markdown",
   "id": "c0401f45-19a6-4447-805c-50516dcad753",
   "metadata": {},
   "source": [
    "## now, we can train the model using the fit() function\n",
    "## this will take a while"
   ]
  },
  {
   "cell_type": "code",
   "execution_count": 82,
   "id": "71c4c865-ee8f-4385-8ae7-9d0f70802c9f",
   "metadata": {
    "tags": []
   },
   "outputs": [
    {
     "name": "stdout",
     "output_type": "stream",
     "text": [
      "Epoch 1/50\n",
      "\u001b[1m64/64\u001b[0m \u001b[32m━━━━━━━━━━━━━━━━━━━━\u001b[0m\u001b[37m\u001b[0m \u001b[1m3s\u001b[0m 19ms/step - accuracy: 0.4526 - loss: 1.0373 - val_accuracy: 0.5078 - val_loss: 0.9820 - learning_rate: 0.0010\n",
      "Epoch 2/50\n",
      "\u001b[1m64/64\u001b[0m \u001b[32m━━━━━━━━━━━━━━━━━━━━\u001b[0m\u001b[37m\u001b[0m \u001b[1m1s\u001b[0m 15ms/step - accuracy: 0.6016 - loss: 0.9121 - val_accuracy: 0.7266 - val_loss: 0.6460 - learning_rate: 0.0010\n",
      "Epoch 3/50\n",
      "\u001b[1m64/64\u001b[0m \u001b[32m━━━━━━━━━━━━━━━━━━━━\u001b[0m\u001b[37m\u001b[0m \u001b[1m1s\u001b[0m 16ms/step - accuracy: 0.7710 - loss: 0.6009 - val_accuracy: 0.8906 - val_loss: 0.3746 - learning_rate: 0.0010\n",
      "Epoch 4/50\n",
      "\u001b[1m64/64\u001b[0m \u001b[32m━━━━━━━━━━━━━━━━━━━━\u001b[0m\u001b[37m\u001b[0m \u001b[1m1s\u001b[0m 17ms/step - accuracy: 0.8757 - loss: 0.3379 - val_accuracy: 0.9219 - val_loss: 0.2719 - learning_rate: 0.0010\n",
      "Epoch 5/50\n",
      "\u001b[1m64/64\u001b[0m \u001b[32m━━━━━━━━━━━━━━━━━━━━\u001b[0m\u001b[37m\u001b[0m \u001b[1m1s\u001b[0m 16ms/step - accuracy: 0.9079 - loss: 0.2786 - val_accuracy: 0.9062 - val_loss: 0.2700 - learning_rate: 0.0010\n",
      "Epoch 6/50\n",
      "\u001b[1m64/64\u001b[0m \u001b[32m━━━━━━━━━━━━━━━━━━━━\u001b[0m\u001b[37m\u001b[0m \u001b[1m1s\u001b[0m 15ms/step - accuracy: 0.9337 - loss: 0.3060 - val_accuracy: 0.9141 - val_loss: 0.3762 - learning_rate: 0.0010\n",
      "Epoch 7/50\n",
      "\u001b[1m64/64\u001b[0m \u001b[32m━━━━━━━━━━━━━━━━━━━━\u001b[0m\u001b[37m\u001b[0m \u001b[1m1s\u001b[0m 16ms/step - accuracy: 0.9567 - loss: 0.1459 - val_accuracy: 0.9219 - val_loss: 0.2402 - learning_rate: 0.0010\n",
      "Epoch 8/50\n",
      "\u001b[1m64/64\u001b[0m \u001b[32m━━━━━━━━━━━━━━━━━━━━\u001b[0m\u001b[37m\u001b[0m \u001b[1m1s\u001b[0m 15ms/step - accuracy: 0.9495 - loss: 0.1337 - val_accuracy: 0.9219 - val_loss: 0.2755 - learning_rate: 0.0010\n",
      "Epoch 9/50\n",
      "\u001b[1m64/64\u001b[0m \u001b[32m━━━━━━━━━━━━━━━━━━━━\u001b[0m\u001b[37m\u001b[0m \u001b[1m1s\u001b[0m 15ms/step - accuracy: 0.9693 - loss: 0.0910 - val_accuracy: 0.9219 - val_loss: 0.3150 - learning_rate: 0.0010\n",
      "Epoch 10/50\n",
      "\u001b[1m64/64\u001b[0m \u001b[32m━━━━━━━━━━━━━━━━━━━━\u001b[0m\u001b[37m\u001b[0m \u001b[1m1s\u001b[0m 15ms/step - accuracy: 0.9813 - loss: 0.0568 - val_accuracy: 0.9297 - val_loss: 0.3215 - learning_rate: 2.0000e-04\n"
     ]
    }
   ],
   "source": [
    "history = model.fit(\n",
    "    X_train,\n",
    "    train_label,\n",
    "    batch_size=batch_size,\n",
    "    epochs=epochs,\n",
    "    verbose=1,\n",
    "    validation_data=(X_test, test_label),\n",
    "    callbacks=[reduce_lr, stop_early]\n",
    ")"
   ]
  },
  {
   "cell_type": "code",
   "execution_count": 87,
   "id": "abaadcde-ab15-4e1c-bbab-cf359fba6325",
   "metadata": {
    "tags": []
   },
   "outputs": [
    {
     "name": "stdout",
     "output_type": "stream",
     "text": [
      "\u001b[1m1/1\u001b[0m \u001b[32m━━━━━━━━━━━━━━━━━━━━\u001b[0m\u001b[37m\u001b[0m \u001b[1m0s\u001b[0m 46ms/step\n",
      "0.09051156044006348\n"
     ]
    }
   ],
   "source": [
    "# let's have a look at our model\n",
    "#model.summary()\n",
    "np.random.seed(69)\n",
    "test_id = np.random.randint(0, X_test.shape[0])\n",
    "test_image = X_test[test_id:test_id+1]\n",
    "\n",
    "start_time = time.time()\n",
    "void = model.predict(test_image)\n",
    "end_time = time.time()\n",
    "print(end_time-start_time)"
   ]
  },
  {
   "cell_type": "markdown",
   "id": "a30ac212-8bd0-4a2d-9f9e-4a137d020645",
   "metadata": {},
   "source": [
    "## Plot accuracy and loss of the training process"
   ]
  },
  {
   "cell_type": "code",
   "execution_count": 84,
   "id": "275092f5-84e2-4a26-850d-3b267f91fe27",
   "metadata": {
    "tags": []
   },
   "outputs": [
    {
     "data": {
      "text/plain": [
       "[<matplotlib.lines.Line2D at 0x16b2a86a330>]"
      ]
     },
     "execution_count": 84,
     "metadata": {},
     "output_type": "execute_result"
    },
    {
     "data": {
      "image/png": "[encoded data removed]",
      "text/plain": [
       "<Figure size 1500x700 with 1 Axes>"
      ]
     },
     "metadata": {},
     "output_type": "display_data"
    }
   ],
   "source": [
    "loss = history.history['loss']\n",
    "val_loss = history.history['val_loss']\n",
    "accuracy = history.history['accuracy']\n",
    "val_accuracy = history.history['val_accuracy']\n",
    "\n",
    "fig = plt.figure(figsize=(15, 7))\n",
    "ax = plt.gca()\n",
    "\n",
    "ax.set_xlabel('Epoch')\n",
    "ax.set_ylabel('Accuracy (Line), Loss (Dashes)')\n",
    "\n",
    "ax.axhline(1, color='gray')\n",
    "\n",
    "plt.plot(accuracy, color='blue')\n",
    "plt.plot(val_accuracy, color='orange')\n",
    "plt.plot(loss, '--', color='blue', alpha=0.5)\n",
    "plt.plot(val_loss, '--', color='orange', alpha=0.5)"
   ]
  },
  {
   "cell_type": "markdown",
   "id": "b63f0a8e-d384-4790-bb47-889224eb2130",
   "metadata": {},
   "source": [
    "## saving the model\n",
    "\n",
    "the function will create a directory for your model and save structure and weights in there\n",
    "\n",
    "sometimes you will see the .h5 format being used - even though this is a bit faster and needs less space, it comes with its limitations and isn't used that much any more"
   ]
  },
  {
   "cell_type": "code",
   "execution_count": 85,
   "id": "304f21c0-6fed-430b-9f96-1c75ccf5bee5",
   "metadata": {
    "tags": []
   },
   "outputs": [],
   "source": [
    "model.save('gesture_recognition.keras')\n",
    "\n",
    "# and this is how you load the model\n",
    "# model = keras.models.load_model(\"gesture_recognition\")"
   ]
  },
  {
   "cell_type": "markdown",
   "id": "165b3fd0-e2fd-4a10-95c6-1370908b9f0c",
   "metadata": {},
   "source": [
    "## visualize classification results with a confusion matrix"
   ]
  },
  {
   "cell_type": "code",
   "execution_count": 86,
   "id": "6bf19f75-976a-449a-bc7a-76a4d30e9c92",
   "metadata": {
    "tags": []
   },
   "outputs": [
    {
     "name": "stdout",
     "output_type": "stream",
     "text": [
      "\u001b[1m4/4\u001b[0m \u001b[32m━━━━━━━━━━━━━━━━━━━━\u001b[0m\u001b[37m\u001b[0m \u001b[1m0s\u001b[0m 15ms/step\n",
      "before [[6.31758245e-03 7.95390315e-06 9.93674517e-01]\n",
      " [9.98405516e-01 9.51949041e-04 6.42623228e-04]\n",
      " [9.51237738e-01 4.55775044e-05 4.87166941e-02]\n",
      " [1.28290732e-04 2.73103865e-06 9.99868989e-01]\n",
      " [9.97616291e-01 1.09226377e-04 2.27459171e-03]\n",
      " [9.99993324e-01 4.16839111e-06 2.52265522e-06]\n",
      " [9.99644995e-01 4.07637890e-06 3.50914896e-04]\n",
      " [1.83677286e-01 7.84649432e-01 3.16732861e-02]\n",
      " [9.99013424e-01 7.74604487e-05 9.09150171e-04]\n",
      " [9.96016085e-01 1.96479028e-04 3.78740230e-03]\n",
      " [7.39362531e-06 8.62900379e-07 9.99991775e-01]\n",
      " [3.21185653e-05 9.99965310e-01 2.61931291e-06]\n",
      " [6.12330019e-01 3.14495683e-01 7.31742680e-02]\n",
      " [2.39199726e-04 7.45377429e-06 9.99753296e-01]\n",
      " [9.99994755e-01 2.31465442e-08 5.24135658e-06]\n",
      " [4.29994339e-04 1.08347804e-05 9.99559104e-01]\n",
      " [3.35008488e-04 9.99651432e-01 1.35896626e-05]\n",
      " [1.94052245e-05 5.06093301e-08 9.99980569e-01]\n",
      " [1.47276632e-02 9.77978647e-01 7.29364995e-03]\n",
      " [5.62531823e-05 6.42359225e-07 9.99943137e-01]\n",
      " [3.98008287e-01 1.91651270e-01 4.10340428e-01]\n",
      " [5.88752628e-05 4.16144104e-07 9.99940753e-01]\n",
      " [8.42147395e-02 8.71282909e-03 9.07072484e-01]\n",
      " [3.68731389e-06 2.42066118e-08 9.99996305e-01]\n",
      " [9.78990316e-01 4.61526273e-04 2.05480754e-02]\n",
      " [1.85217305e-05 9.45547285e-08 9.99981403e-01]\n",
      " [2.38517940e-04 6.32404135e-06 9.99755204e-01]\n",
      " [2.04498705e-04 4.78103266e-06 9.99790728e-01]\n",
      " [9.98646677e-01 4.46825743e-06 1.34877092e-03]\n",
      " [1.73848966e-04 3.31970114e-06 9.99822795e-01]\n",
      " [1.54015084e-04 2.00572922e-05 9.99826014e-01]\n",
      " [2.85068145e-05 1.16428475e-06 9.99970317e-01]\n",
      " [9.89519835e-01 2.15357562e-04 1.02648074e-02]\n",
      " [9.94052112e-01 7.66423545e-05 5.87121723e-03]\n",
      " [9.99987006e-01 8.61504191e-07 1.22045321e-05]\n",
      " [9.99999285e-01 6.26700853e-07 1.70820300e-07]\n",
      " [9.99964595e-01 8.09260473e-06 2.73224941e-05]\n",
      " [9.99068677e-01 1.78734390e-05 9.13523138e-04]\n",
      " [2.26580054e-02 9.75988805e-01 1.35324337e-03]\n",
      " [1.14830339e-03 9.98770535e-01 8.11701248e-05]\n",
      " [3.32793663e-03 9.93665457e-01 3.00660799e-03]\n",
      " [3.44749205e-05 7.34248005e-08 9.99965429e-01]\n",
      " [9.95505929e-01 9.81434248e-04 3.51257017e-03]\n",
      " [5.31712873e-03 9.94084060e-01 5.98811079e-04]\n",
      " [1.67447384e-02 9.78511512e-01 4.74370504e-03]\n",
      " [9.82152998e-01 1.12312182e-03 1.67238321e-02]\n",
      " [9.87735298e-03 1.08888408e-03 9.89033699e-01]\n",
      " [9.99575913e-01 2.09656009e-05 4.03171871e-04]\n",
      " [1.35048598e-01 6.75271673e-04 8.64276111e-01]\n",
      " [9.99973416e-01 2.07518970e-05 5.84057170e-06]\n",
      " [1.16544811e-03 6.67381610e-05 9.98767734e-01]\n",
      " [2.13474497e-01 3.57563421e-02 7.50769138e-01]\n",
      " [2.67672822e-05 2.78222871e-07 9.99972939e-01]\n",
      " [1.76592767e-02 7.87804674e-05 9.82261896e-01]\n",
      " [9.99147534e-01 4.51373671e-06 8.47889751e-04]\n",
      " [9.20717061e-01 7.96871434e-04 7.84861147e-02]\n",
      " [7.73819625e-01 7.81405601e-04 2.25398988e-01]\n",
      " [2.86950666e-07 1.24781807e-09 9.99999762e-01]\n",
      " [9.96045649e-01 3.32441123e-05 3.92109668e-03]\n",
      " [1.22240931e-01 6.24222666e-05 8.77696574e-01]\n",
      " [5.53683611e-03 9.92309213e-01 2.15389440e-03]\n",
      " [9.63326335e-01 4.36934223e-03 3.23043056e-02]\n",
      " [8.07946548e-03 3.10848089e-04 9.91609633e-01]\n",
      " [9.65802848e-01 2.89058723e-02 5.29124169e-03]\n",
      " [2.45870297e-06 1.49591801e-06 9.99995947e-01]\n",
      " [3.85122315e-04 5.99987789e-06 9.99608934e-01]\n",
      " [1.50024882e-02 9.82902050e-01 2.09546299e-03]\n",
      " [2.55744159e-02 2.61555222e-04 9.74164128e-01]\n",
      " [1.08931763e-02 9.85136330e-01 3.97055550e-03]\n",
      " [8.65688920e-01 1.14524865e-03 1.33165777e-01]\n",
      " [2.45113897e-05 6.85585462e-07 9.99974728e-01]\n",
      " [9.99063909e-01 8.01462302e-05 8.55905353e-04]\n",
      " [9.99978304e-01 2.77638242e-06 1.89666716e-05]\n",
      " [9.99892831e-01 3.50075679e-05 7.21538308e-05]\n",
      " [9.46724951e-01 2.92386650e-03 5.03512695e-02]\n",
      " [3.94514238e-04 9.99508977e-01 9.64912251e-05]\n",
      " [9.97319639e-01 9.19309387e-05 2.58843484e-03]\n",
      " [2.76494557e-05 2.44164471e-06 9.99969959e-01]\n",
      " [2.47294829e-05 1.06737707e-06 9.99974251e-01]\n",
      " [9.99821723e-01 2.98239902e-05 1.48541993e-04]\n",
      " [9.99700546e-01 2.89071293e-04 1.03673556e-05]\n",
      " [1.52859735e-04 2.72648526e-06 9.99844432e-01]\n",
      " [9.48317407e-04 9.97384489e-01 1.66713353e-03]\n",
      " [9.98962402e-01 1.71407137e-05 1.02046342e-03]\n",
      " [1.00080266e-04 9.08649508e-06 9.99890804e-01]\n",
      " [9.99074101e-01 2.50740472e-04 6.75115967e-04]\n",
      " [9.97817278e-01 5.69753829e-05 2.12573074e-03]\n",
      " [1.35733476e-02 9.74162996e-01 1.22636911e-02]\n",
      " [9.99986410e-01 1.07447349e-05 2.88855222e-06]\n",
      " [6.70788053e-04 4.73737009e-06 9.99324441e-01]\n",
      " [8.42660367e-01 5.19749592e-04 1.56819895e-01]\n",
      " [2.10952084e-03 1.00046302e-04 9.97790456e-01]\n",
      " [9.75336611e-01 3.36098205e-03 2.13023499e-02]\n",
      " [1.06233550e-04 1.22299150e-06 9.99892592e-01]\n",
      " [1.36354566e-02 9.85444605e-01 9.19930520e-04]\n",
      " [9.99756038e-01 1.51950066e-04 9.20580205e-05]\n",
      " [9.24929976e-01 1.44243264e-03 7.36276358e-02]\n",
      " [1.37450334e-04 4.30548380e-06 9.99858260e-01]\n",
      " [5.05942699e-05 9.99947548e-01 1.89814227e-06]\n",
      " [9.72584903e-01 7.21876801e-04 2.66932789e-02]\n",
      " [3.82452901e-03 9.95307028e-01 8.68393283e-04]\n",
      " [1.26339568e-04 4.73677392e-06 9.99868870e-01]\n",
      " [1.27845013e-03 9.98563945e-01 1.57638380e-04]\n",
      " [2.80500244e-04 7.32908620e-06 9.99712169e-01]\n",
      " [1.05583176e-05 3.53033414e-07 9.99989033e-01]\n",
      " [9.99999285e-01 5.16143132e-07 2.68901573e-07]\n",
      " [1.81154464e-03 8.26532778e-05 9.98105764e-01]\n",
      " [9.99999881e-01 9.40919520e-08 3.81966956e-08]\n",
      " [9.99938130e-01 3.08946182e-05 3.10258292e-05]\n",
      " [9.86078799e-01 2.20634928e-03 1.17149130e-02]\n",
      " [8.25264957e-03 9.84816849e-01 6.93053473e-03]\n",
      " [2.00040615e-03 9.97702777e-01 2.96825659e-04]\n",
      " [8.55425179e-01 5.60473837e-02 8.85274187e-02]\n",
      " [7.36733909e-07 1.71280790e-09 9.99999285e-01]\n",
      " [7.61366868e-03 9.89760578e-01 2.62573524e-03]\n",
      " [2.72442669e-01 8.26644301e-02 6.44892871e-01]\n",
      " [3.29586942e-06 1.37259548e-07 9.99996543e-01]\n",
      " [9.99822557e-01 5.37899450e-06 1.72073414e-04]\n",
      " [8.15744877e-01 7.23146950e-05 1.84182748e-01]\n",
      " [3.03222303e-04 4.36567861e-05 9.99653220e-01]\n",
      " [3.27516943e-02 9.24936891e-01 4.23113368e-02]\n",
      " [1.47759143e-04 1.02895829e-05 9.99841928e-01]\n",
      " [2.35575382e-02 9.70835924e-01 5.60653955e-03]\n",
      " [1.37571956e-03 6.42550231e-06 9.98617887e-01]\n",
      " [9.99897718e-01 2.66028092e-05 7.57425878e-05]\n",
      " [1.80302886e-04 8.41561239e-04 9.98978138e-01]\n",
      " [2.63243653e-02 4.98230584e-05 9.73625779e-01]\n",
      " [6.85360965e-06 2.14282363e-06 9.99991059e-01]]\n",
      "probabilities [2 0 0 2 0 0 0 1 0 0 2 1 0 2 0 2 1 2 1 2 2 2 2 2 0 2 2 2 0 2 2 2 0 0 0 0 0\n",
      " 0 1 1 1 2 0 1 1 0 2 0 2 0 2 2 2 2 0 0 0 2 0 2 1 0 2 0 2 2 1 2 1 0 2 0 0 0\n",
      " 0 1 0 2 2 0 0 2 1 0 2 0 0 1 0 2 0 2 0 2 1 0 0 2 1 0 1 2 1 2 2 0 2 0 0 0 1\n",
      " 1 0 2 1 2 2 0 0 2 1 2 1 2 0 2 2 2]\n"
     ]
    },
    {
     "data": {
      "image/png": "[encoded data removed]",
      "text/plain": [
       "<Figure size 1000x1000 with 2 Axes>"
      ]
     },
     "metadata": {},
     "output_type": "display_data"
    }
   ],
   "source": [
    "# let the model make predictions for our training data\n",
    "y_predictions = model.predict(X_test)\n",
    "\n",
    "# we get a 2D numpy array with probabilities for each category\n",
    "print('before', y_predictions)\n",
    "\n",
    "# to build a confusion matrix, we have to convert it to classifications\n",
    "# this can be done by using the argmax() function to set the probability to 1 and the rest to 0\n",
    "y_predictions = np.argmax(y_predictions, axis=1)\n",
    "\n",
    "print('probabilities', y_predictions)\n",
    "\n",
    "# create and plot confusion matrix\n",
    "conf_matrix = confusion_matrix(y_test, y_predictions)\n",
    "\n",
    "fig = plt.figure(figsize=(10, 10))\n",
    "\n",
    "ConfusionMatrixDisplay(conf_matrix, display_labels=label_names).plot(ax=plt.gca())\n",
    "\n",
    "plt.xticks(rotation=90, ha='center')\n",
    "pass"
   ]
  }
 ],
 "metadata": {
  "kernelspec": {
   "display_name": "Python 3",
   "language": "python",
   "name": "python3"
  },
  "language_info": {
   "codemirror_mode": {
    "name": "ipython",
    "version": 3
   },
   "file_extension": ".py",
   "mimetype": "text/x-python",
   "name": "python",
   "nbconvert_exporter": "python",
   "pygments_lexer": "ipython3",
   "version": "3.12.2"
  }
 },
 "nbformat": 4,
 "nbformat_minor": 5
}
